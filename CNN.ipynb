{
  "metadata": {
    "kernelspec": {
      "display_name": "Python 3",
      "name": "python3"
    },
    "language_info": {
      "name": "python",
      "version": "3.10.13",
      "mimetype": "text/x-python",
      "codemirror_mode": {
        "name": "ipython",
        "version": 3
      },
      "pygments_lexer": "ipython3",
      "nbconvert_exporter": "python",
      "file_extension": ".py"
    },
    "kaggle": {
      "accelerator": "none",
      "dataSources": [
        {
          "sourceId": 78156,
          "sourceType": "datasetVersion",
          "datasetId": 44109
        }
      ],
      "dockerImageVersionId": 30698,
      "isInternetEnabled": false,
      "language": "python",
      "sourceType": "notebook",
      "isGpuEnabled": false
    },
    "colab": {
      "name": "notebook33b9b6367e",
      "provenance": [],
      "gpuType": "T4"
    },
    "accelerator": "GPU"
  },
  "nbformat_minor": 0,
  "nbformat": 4,
  "cells": [
    {
      "source": [
        "\n",
        "# IMPORTANT: RUN THIS CELL IN ORDER TO IMPORT YOUR KAGGLE DATA SOURCES\n",
        "# TO THE CORRECT LOCATION (/kaggle/input) IN YOUR NOTEBOOK,\n",
        "# THEN FEEL FREE TO DELETE THIS CELL.\n",
        "# NOTE: THIS NOTEBOOK ENVIRONMENT DIFFERS FROM KAGGLE'S PYTHON\n",
        "# ENVIRONMENT SO THERE MAY BE MISSING LIBRARIES USED BY YOUR\n",
        "# NOTEBOOK.\n",
        "\n",
        "import os\n",
        "import sys\n",
        "from tempfile import NamedTemporaryFile\n",
        "from urllib.request import urlopen\n",
        "from urllib.parse import unquote, urlparse\n",
        "from urllib.error import HTTPError\n",
        "from zipfile import ZipFile\n",
        "import tarfile\n",
        "import shutil\n",
        "\n",
        "CHUNK_SIZE = 40960\n",
        "DATA_SOURCE_MAPPING = 'utkface-new:https%3A%2F%2Fstorage.googleapis.com%2Fkaggle-data-sets%2F44109%2F78156%2Fbundle%2Farchive.zip%3FX-Goog-Algorithm%3DGOOG4-RSA-SHA256%26X-Goog-Credential%3Dgcp-kaggle-com%2540kaggle-161607.iam.gserviceaccount.com%252F20240523%252Fauto%252Fstorage%252Fgoog4_request%26X-Goog-Date%3D20240523T090908Z%26X-Goog-Expires%3D259200%26X-Goog-SignedHeaders%3Dhost%26X-Goog-Signature%3D40ebf21c2352927760114af39df16e0ec483d02ca09aba83848b41f0e0b9472ec923ef8e33e6ca1be6ac01069d3d223a3043dad551e8da3ba40b59eac65a7b1d3721cc7b55f648d3ae76238a5beb2e1e5a3dfc9bcd63329b99ad08b9f574b826b7ce02b986a6516f4ee612f6fccc36e3c3ba61d358ae3c2e1cf3314f6d45abe7328646113dbe1199cd02d76ee37dfa5e810202aaf29fb8ca128c761810d4c0bae3059d1c5cc26c3bb0cd408f16a9bfb4bccb370201e4daf8293a34752b61fe16dca25247e0943cc69e121d046d6ffc0669053b9ff597dfa6a61b5646323a46da910c6b34a8d760b251cc5ef7a51750aca96bb3858c51a5a7f9b307aad61c2588'\n",
        "\n",
        "KAGGLE_INPUT_PATH='/kaggle/input'\n",
        "KAGGLE_WORKING_PATH='/kaggle/working'\n",
        "KAGGLE_SYMLINK='kaggle'\n",
        "\n",
        "!umount /kaggle/input/ 2> /dev/null\n",
        "shutil.rmtree('/kaggle/input', ignore_errors=True)\n",
        "os.makedirs(KAGGLE_INPUT_PATH, 0o777, exist_ok=True)\n",
        "os.makedirs(KAGGLE_WORKING_PATH, 0o777, exist_ok=True)\n",
        "\n",
        "try:\n",
        "  os.symlink(KAGGLE_INPUT_PATH, os.path.join(\"..\", 'input'), target_is_directory=True)\n",
        "except FileExistsError:\n",
        "  pass\n",
        "try:\n",
        "  os.symlink(KAGGLE_WORKING_PATH, os.path.join(\"..\", 'working'), target_is_directory=True)\n",
        "except FileExistsError:\n",
        "  pass\n",
        "\n",
        "for data_source_mapping in DATA_SOURCE_MAPPING.split(','):\n",
        "    directory, download_url_encoded = data_source_mapping.split(':')\n",
        "    download_url = unquote(download_url_encoded)\n",
        "    filename = urlparse(download_url).path\n",
        "    destination_path = os.path.join(KAGGLE_INPUT_PATH, directory)\n",
        "    try:\n",
        "        with urlopen(download_url) as fileres, NamedTemporaryFile() as tfile:\n",
        "            total_length = fileres.headers['content-length']\n",
        "            print(f'Downloading {directory}, {total_length} bytes compressed')\n",
        "            dl = 0\n",
        "            data = fileres.read(CHUNK_SIZE)\n",
        "            while len(data) > 0:\n",
        "                dl += len(data)\n",
        "                tfile.write(data)\n",
        "                done = int(50 * dl / int(total_length))\n",
        "                sys.stdout.write(f\"\\r[{'=' * done}{' ' * (50-done)}] {dl} bytes downloaded\")\n",
        "                sys.stdout.flush()\n",
        "                data = fileres.read(CHUNK_SIZE)\n",
        "            if filename.endswith('.zip'):\n",
        "              with ZipFile(tfile) as zfile:\n",
        "                zfile.extractall(destination_path)\n",
        "            else:\n",
        "              with tarfile.open(tfile.name) as tarfile:\n",
        "                tarfile.extractall(destination_path)\n",
        "            print(f'\\nDownloaded and uncompressed: {directory}')\n",
        "    except HTTPError as e:\n",
        "        print(f'Failed to load (likely expired) {download_url} to path {destination_path}')\n",
        "        continue\n",
        "    except OSError as e:\n",
        "        print(f'Failed to load {download_url} to path {destination_path}')\n",
        "        continue\n",
        "\n",
        "print('Data source import complete.')\n"
      ],
      "metadata": {
        "colab": {
          "base_uri": "https://localhost:8080/"
        },
        "id": "4zX5gJyI-qCW",
        "outputId": "82a937c6-c5dc-4025-c670-cadb15b58f3a"
      },
      "cell_type": "code",
      "outputs": [
        {
          "output_type": "stream",
          "name": "stdout",
          "text": [
            "Downloading utkface-new, 347342542 bytes compressed\n",
            "[==================================================] 347342542 bytes downloaded\n",
            "Downloaded and uncompressed: utkface-new\n",
            "Data source import complete.\n"
          ]
        }
      ],
      "execution_count": 2
    },
    {
      "cell_type": "code",
      "source": [
        "import pandas as pd\n",
        "import numpy as np\n",
        "import os\n",
        "import matplotlib.pyplot as plt\n",
        "import seaborn as sns\n",
        "import warnings\n",
        "from tqdm.notebook import tqdm\n",
        "warnings.filterwarnings('ignore')\n",
        "%matplotlib inline\n",
        "from PIL import Image\n",
        "\n",
        "import tensorflow as tf\n",
        "from keras.preprocessing.image import load_img\n",
        "from keras.models import Sequential, Model\n",
        "from sklearn.model_selection import train_test_split\n",
        "from keras.layers import Dense, Conv2D, Dropout, Flatten, MaxPooling2D, Input\n",
        "\n"
      ],
      "metadata": {
        "_uuid": "8f2839f25d086af736a60e9eeb907d3b93b6e0e5",
        "_cell_guid": "b1076dfc-b9ad-4769-8c92-a6c4dae69d19",
        "execution": {
          "iopub.status.busy": "2024-05-23T08:41:35.499602Z",
          "iopub.execute_input": "2024-05-23T08:41:35.500263Z",
          "iopub.status.idle": "2024-05-23T08:41:35.505215Z",
          "shell.execute_reply.started": "2024-05-23T08:41:35.500192Z",
          "shell.execute_reply": "2024-05-23T08:41:35.503867Z"
        },
        "trusted": true,
        "id": "eJOfr_JV-qCX"
      },
      "execution_count": 32,
      "outputs": []
    },
    {
      "cell_type": "code",
      "source": [
        "BASE_DIR = '../input/utkface-new/UTKFace/'"
      ],
      "metadata": {
        "execution": {
          "iopub.status.busy": "2024-05-23T08:41:35.50858Z",
          "iopub.execute_input": "2024-05-23T08:41:35.509756Z",
          "iopub.status.idle": "2024-05-23T08:41:35.524883Z",
          "shell.execute_reply.started": "2024-05-23T08:41:35.509714Z",
          "shell.execute_reply": "2024-05-23T08:41:35.523657Z"
        },
        "trusted": true,
        "id": "Gc6mEnU4-qCX"
      },
      "execution_count": 3,
      "outputs": []
    },
    {
      "cell_type": "code",
      "source": [
        "import os\n",
        "from tqdm import tqdm\n",
        "\n",
        "# Define the base directory\n",
        "BASE_DIR = '../input/utkface-new/UTKFace/'\n",
        "\n",
        "# List all filenames in the directory\n",
        "filenames = os.listdir(BASE_DIR)\n",
        "\n",
        "# Using list comprehensions to extract image paths, ages, and genders\n",
        "image_paths = [os.path.join(BASE_DIR, filename) for filename in tqdm(filenames)]\n",
        "age_labels = [int(filename.split('_')[0]) for filename in tqdm(filenames)]\n",
        "gender_labels = [int(filename.split('_')[1]) for filename in tqdm(filenames)]\n",
        "\n",
        "# Print some basic information\n",
        "print(f\"Number of images: {len(image_paths)}\")\n",
        "print(f\"Number of age labels: {len(age_labels)}\")\n",
        "print(f\"Number of gender labels: {len(gender_labels)}\")\n"
      ],
      "metadata": {
        "execution": {
          "iopub.status.busy": "2024-05-23T08:41:35.527595Z",
          "iopub.status.idle": "2024-05-23T08:41:35.69596Z",
          "shell.execute_reply.started": "2024-05-23T08:41:35.528029Z",
          "shell.execute_reply": "2024-05-23T08:41:35.69493Z"
        },
        "trusted": true,
        "colab": {
          "base_uri": "https://localhost:8080/"
        },
        "id": "s4LG1NqP-qCX",
        "outputId": "4d32fe92-a3a5-44a9-fcec-377b91a5b961"
      },
      "execution_count": 4,
      "outputs": [
        {
          "output_type": "stream",
          "name": "stderr",
          "text": [
            "100%|██████████| 23708/23708 [00:00<00:00, 785249.97it/s]\n",
            "100%|██████████| 23708/23708 [00:00<00:00, 1588424.64it/s]\n",
            "100%|██████████| 23708/23708 [00:00<00:00, 1513777.94it/s]"
          ]
        },
        {
          "output_type": "stream",
          "name": "stdout",
          "text": [
            "Number of images: 23708\n",
            "Number of age labels: 23708\n",
            "Number of gender labels: 23708\n"
          ]
        },
        {
          "output_type": "stream",
          "name": "stderr",
          "text": [
            "\n"
          ]
        }
      ]
    },
    {
      "cell_type": "code",
      "source": [
        "df = pd.DataFrame()\n",
        "df['image'], df['age'], df['gender'] = image_paths, age_labels, gender_labels\n",
        "df.head()"
      ],
      "metadata": {
        "execution": {
          "iopub.status.busy": "2024-05-23T08:41:35.697536Z",
          "iopub.execute_input": "2024-05-23T08:41:35.697895Z",
          "iopub.status.idle": "2024-05-23T08:41:35.753158Z",
          "shell.execute_reply.started": "2024-05-23T08:41:35.697866Z",
          "shell.execute_reply": "2024-05-23T08:41:35.751358Z"
        },
        "trusted": true,
        "colab": {
          "base_uri": "https://localhost:8080/",
          "height": 206
        },
        "id": "9e_BMnO7-qCY",
        "outputId": "23691f11-49ef-4de5-80ad-421e0668aa73"
      },
      "execution_count": 5,
      "outputs": [
        {
          "output_type": "execute_result",
          "data": {
            "text/plain": [
              "                                               image  age  gender\n",
              "0  ../input/utkface-new/UTKFace/22_1_3_2017010500...   22       1\n",
              "1  ../input/utkface-new/UTKFace/28_0_0_2017012022...   28       0\n",
              "2  ../input/utkface-new/UTKFace/13_1_1_2017010920...   13       1\n",
              "3  ../input/utkface-new/UTKFace/28_1_0_2017011718...   28       1\n",
              "4  ../input/utkface-new/UTKFace/25_1_2_2017011600...   25       1"
            ],
            "text/html": [
              "\n",
              "  <div id=\"df-7a186941-0a0f-405e-b2a7-d0912ca359d2\" class=\"colab-df-container\">\n",
              "    <div>\n",
              "<style scoped>\n",
              "    .dataframe tbody tr th:only-of-type {\n",
              "        vertical-align: middle;\n",
              "    }\n",
              "\n",
              "    .dataframe tbody tr th {\n",
              "        vertical-align: top;\n",
              "    }\n",
              "\n",
              "    .dataframe thead th {\n",
              "        text-align: right;\n",
              "    }\n",
              "</style>\n",
              "<table border=\"1\" class=\"dataframe\">\n",
              "  <thead>\n",
              "    <tr style=\"text-align: right;\">\n",
              "      <th></th>\n",
              "      <th>image</th>\n",
              "      <th>age</th>\n",
              "      <th>gender</th>\n",
              "    </tr>\n",
              "  </thead>\n",
              "  <tbody>\n",
              "    <tr>\n",
              "      <th>0</th>\n",
              "      <td>../input/utkface-new/UTKFace/22_1_3_2017010500...</td>\n",
              "      <td>22</td>\n",
              "      <td>1</td>\n",
              "    </tr>\n",
              "    <tr>\n",
              "      <th>1</th>\n",
              "      <td>../input/utkface-new/UTKFace/28_0_0_2017012022...</td>\n",
              "      <td>28</td>\n",
              "      <td>0</td>\n",
              "    </tr>\n",
              "    <tr>\n",
              "      <th>2</th>\n",
              "      <td>../input/utkface-new/UTKFace/13_1_1_2017010920...</td>\n",
              "      <td>13</td>\n",
              "      <td>1</td>\n",
              "    </tr>\n",
              "    <tr>\n",
              "      <th>3</th>\n",
              "      <td>../input/utkface-new/UTKFace/28_1_0_2017011718...</td>\n",
              "      <td>28</td>\n",
              "      <td>1</td>\n",
              "    </tr>\n",
              "    <tr>\n",
              "      <th>4</th>\n",
              "      <td>../input/utkface-new/UTKFace/25_1_2_2017011600...</td>\n",
              "      <td>25</td>\n",
              "      <td>1</td>\n",
              "    </tr>\n",
              "  </tbody>\n",
              "</table>\n",
              "</div>\n",
              "    <div class=\"colab-df-buttons\">\n",
              "\n",
              "  <div class=\"colab-df-container\">\n",
              "    <button class=\"colab-df-convert\" onclick=\"convertToInteractive('df-7a186941-0a0f-405e-b2a7-d0912ca359d2')\"\n",
              "            title=\"Convert this dataframe to an interactive table.\"\n",
              "            style=\"display:none;\">\n",
              "\n",
              "  <svg xmlns=\"http://www.w3.org/2000/svg\" height=\"24px\" viewBox=\"0 -960 960 960\">\n",
              "    <path d=\"M120-120v-720h720v720H120Zm60-500h600v-160H180v160Zm220 220h160v-160H400v160Zm0 220h160v-160H400v160ZM180-400h160v-160H180v160Zm440 0h160v-160H620v160ZM180-180h160v-160H180v160Zm440 0h160v-160H620v160Z\"/>\n",
              "  </svg>\n",
              "    </button>\n",
              "\n",
              "  <style>\n",
              "    .colab-df-container {\n",
              "      display:flex;\n",
              "      gap: 12px;\n",
              "    }\n",
              "\n",
              "    .colab-df-convert {\n",
              "      background-color: #E8F0FE;\n",
              "      border: none;\n",
              "      border-radius: 50%;\n",
              "      cursor: pointer;\n",
              "      display: none;\n",
              "      fill: #1967D2;\n",
              "      height: 32px;\n",
              "      padding: 0 0 0 0;\n",
              "      width: 32px;\n",
              "    }\n",
              "\n",
              "    .colab-df-convert:hover {\n",
              "      background-color: #E2EBFA;\n",
              "      box-shadow: 0px 1px 2px rgba(60, 64, 67, 0.3), 0px 1px 3px 1px rgba(60, 64, 67, 0.15);\n",
              "      fill: #174EA6;\n",
              "    }\n",
              "\n",
              "    .colab-df-buttons div {\n",
              "      margin-bottom: 4px;\n",
              "    }\n",
              "\n",
              "    [theme=dark] .colab-df-convert {\n",
              "      background-color: #3B4455;\n",
              "      fill: #D2E3FC;\n",
              "    }\n",
              "\n",
              "    [theme=dark] .colab-df-convert:hover {\n",
              "      background-color: #434B5C;\n",
              "      box-shadow: 0px 1px 3px 1px rgba(0, 0, 0, 0.15);\n",
              "      filter: drop-shadow(0px 1px 2px rgba(0, 0, 0, 0.3));\n",
              "      fill: #FFFFFF;\n",
              "    }\n",
              "  </style>\n",
              "\n",
              "    <script>\n",
              "      const buttonEl =\n",
              "        document.querySelector('#df-7a186941-0a0f-405e-b2a7-d0912ca359d2 button.colab-df-convert');\n",
              "      buttonEl.style.display =\n",
              "        google.colab.kernel.accessAllowed ? 'block' : 'none';\n",
              "\n",
              "      async function convertToInteractive(key) {\n",
              "        const element = document.querySelector('#df-7a186941-0a0f-405e-b2a7-d0912ca359d2');\n",
              "        const dataTable =\n",
              "          await google.colab.kernel.invokeFunction('convertToInteractive',\n",
              "                                                    [key], {});\n",
              "        if (!dataTable) return;\n",
              "\n",
              "        const docLinkHtml = 'Like what you see? Visit the ' +\n",
              "          '<a target=\"_blank\" href=https://colab.research.google.com/notebooks/data_table.ipynb>data table notebook</a>'\n",
              "          + ' to learn more about interactive tables.';\n",
              "        element.innerHTML = '';\n",
              "        dataTable['output_type'] = 'display_data';\n",
              "        await google.colab.output.renderOutput(dataTable, element);\n",
              "        const docLink = document.createElement('div');\n",
              "        docLink.innerHTML = docLinkHtml;\n",
              "        element.appendChild(docLink);\n",
              "      }\n",
              "    </script>\n",
              "  </div>\n",
              "\n",
              "\n",
              "<div id=\"df-fca02b27-1a25-4f1e-b1b9-1ba671baf260\">\n",
              "  <button class=\"colab-df-quickchart\" onclick=\"quickchart('df-fca02b27-1a25-4f1e-b1b9-1ba671baf260')\"\n",
              "            title=\"Suggest charts\"\n",
              "            style=\"display:none;\">\n",
              "\n",
              "<svg xmlns=\"http://www.w3.org/2000/svg\" height=\"24px\"viewBox=\"0 0 24 24\"\n",
              "     width=\"24px\">\n",
              "    <g>\n",
              "        <path d=\"M19 3H5c-1.1 0-2 .9-2 2v14c0 1.1.9 2 2 2h14c1.1 0 2-.9 2-2V5c0-1.1-.9-2-2-2zM9 17H7v-7h2v7zm4 0h-2V7h2v10zm4 0h-2v-4h2v4z\"/>\n",
              "    </g>\n",
              "</svg>\n",
              "  </button>\n",
              "\n",
              "<style>\n",
              "  .colab-df-quickchart {\n",
              "      --bg-color: #E8F0FE;\n",
              "      --fill-color: #1967D2;\n",
              "      --hover-bg-color: #E2EBFA;\n",
              "      --hover-fill-color: #174EA6;\n",
              "      --disabled-fill-color: #AAA;\n",
              "      --disabled-bg-color: #DDD;\n",
              "  }\n",
              "\n",
              "  [theme=dark] .colab-df-quickchart {\n",
              "      --bg-color: #3B4455;\n",
              "      --fill-color: #D2E3FC;\n",
              "      --hover-bg-color: #434B5C;\n",
              "      --hover-fill-color: #FFFFFF;\n",
              "      --disabled-bg-color: #3B4455;\n",
              "      --disabled-fill-color: #666;\n",
              "  }\n",
              "\n",
              "  .colab-df-quickchart {\n",
              "    background-color: var(--bg-color);\n",
              "    border: none;\n",
              "    border-radius: 50%;\n",
              "    cursor: pointer;\n",
              "    display: none;\n",
              "    fill: var(--fill-color);\n",
              "    height: 32px;\n",
              "    padding: 0;\n",
              "    width: 32px;\n",
              "  }\n",
              "\n",
              "  .colab-df-quickchart:hover {\n",
              "    background-color: var(--hover-bg-color);\n",
              "    box-shadow: 0 1px 2px rgba(60, 64, 67, 0.3), 0 1px 3px 1px rgba(60, 64, 67, 0.15);\n",
              "    fill: var(--button-hover-fill-color);\n",
              "  }\n",
              "\n",
              "  .colab-df-quickchart-complete:disabled,\n",
              "  .colab-df-quickchart-complete:disabled:hover {\n",
              "    background-color: var(--disabled-bg-color);\n",
              "    fill: var(--disabled-fill-color);\n",
              "    box-shadow: none;\n",
              "  }\n",
              "\n",
              "  .colab-df-spinner {\n",
              "    border: 2px solid var(--fill-color);\n",
              "    border-color: transparent;\n",
              "    border-bottom-color: var(--fill-color);\n",
              "    animation:\n",
              "      spin 1s steps(1) infinite;\n",
              "  }\n",
              "\n",
              "  @keyframes spin {\n",
              "    0% {\n",
              "      border-color: transparent;\n",
              "      border-bottom-color: var(--fill-color);\n",
              "      border-left-color: var(--fill-color);\n",
              "    }\n",
              "    20% {\n",
              "      border-color: transparent;\n",
              "      border-left-color: var(--fill-color);\n",
              "      border-top-color: var(--fill-color);\n",
              "    }\n",
              "    30% {\n",
              "      border-color: transparent;\n",
              "      border-left-color: var(--fill-color);\n",
              "      border-top-color: var(--fill-color);\n",
              "      border-right-color: var(--fill-color);\n",
              "    }\n",
              "    40% {\n",
              "      border-color: transparent;\n",
              "      border-right-color: var(--fill-color);\n",
              "      border-top-color: var(--fill-color);\n",
              "    }\n",
              "    60% {\n",
              "      border-color: transparent;\n",
              "      border-right-color: var(--fill-color);\n",
              "    }\n",
              "    80% {\n",
              "      border-color: transparent;\n",
              "      border-right-color: var(--fill-color);\n",
              "      border-bottom-color: var(--fill-color);\n",
              "    }\n",
              "    90% {\n",
              "      border-color: transparent;\n",
              "      border-bottom-color: var(--fill-color);\n",
              "    }\n",
              "  }\n",
              "</style>\n",
              "\n",
              "  <script>\n",
              "    async function quickchart(key) {\n",
              "      const quickchartButtonEl =\n",
              "        document.querySelector('#' + key + ' button');\n",
              "      quickchartButtonEl.disabled = true;  // To prevent multiple clicks.\n",
              "      quickchartButtonEl.classList.add('colab-df-spinner');\n",
              "      try {\n",
              "        const charts = await google.colab.kernel.invokeFunction(\n",
              "            'suggestCharts', [key], {});\n",
              "      } catch (error) {\n",
              "        console.error('Error during call to suggestCharts:', error);\n",
              "      }\n",
              "      quickchartButtonEl.classList.remove('colab-df-spinner');\n",
              "      quickchartButtonEl.classList.add('colab-df-quickchart-complete');\n",
              "    }\n",
              "    (() => {\n",
              "      let quickchartButtonEl =\n",
              "        document.querySelector('#df-fca02b27-1a25-4f1e-b1b9-1ba671baf260 button');\n",
              "      quickchartButtonEl.style.display =\n",
              "        google.colab.kernel.accessAllowed ? 'block' : 'none';\n",
              "    })();\n",
              "  </script>\n",
              "</div>\n",
              "\n",
              "    </div>\n",
              "  </div>\n"
            ],
            "application/vnd.google.colaboratory.intrinsic+json": {
              "type": "dataframe",
              "variable_name": "df",
              "summary": "{\n  \"name\": \"df\",\n  \"rows\": 23708,\n  \"fields\": [\n    {\n      \"column\": \"image\",\n      \"properties\": {\n        \"dtype\": \"string\",\n        \"num_unique_values\": 23708,\n        \"samples\": [\n          \"../input/utkface-new/UTKFace/16_1_0_20170103201213287.jpg.chip.jpg\",\n          \"../input/utkface-new/UTKFace/35_1_4_20170117194818924.jpg.chip.jpg\",\n          \"../input/utkface-new/UTKFace/54_0_0_20170120223243212.jpg.chip.jpg\"\n        ],\n        \"semantic_type\": \"\",\n        \"description\": \"\"\n      }\n    },\n    {\n      \"column\": \"age\",\n      \"properties\": {\n        \"dtype\": \"number\",\n        \"std\": 19,\n        \"min\": 1,\n        \"max\": 116,\n        \"num_unique_values\": 104,\n        \"samples\": [\n          31,\n          75,\n          34\n        ],\n        \"semantic_type\": \"\",\n        \"description\": \"\"\n      }\n    },\n    {\n      \"column\": \"gender\",\n      \"properties\": {\n        \"dtype\": \"number\",\n        \"std\": 0,\n        \"min\": 0,\n        \"max\": 1,\n        \"num_unique_values\": 2,\n        \"samples\": [\n          0,\n          1\n        ],\n        \"semantic_type\": \"\",\n        \"description\": \"\"\n      }\n    }\n  ]\n}"
            }
          },
          "metadata": {},
          "execution_count": 5
        }
      ]
    },
    {
      "cell_type": "markdown",
      "source": [
        "EXPLORATORY DATA ANALYSIS"
      ],
      "metadata": {
        "execution": {
          "iopub.status.busy": "2024-05-23T07:45:19.184796Z",
          "iopub.execute_input": "2024-05-23T07:45:19.185195Z",
          "iopub.status.idle": "2024-05-23T07:45:19.189495Z",
          "shell.execute_reply.started": "2024-05-23T07:45:19.185164Z",
          "shell.execute_reply": "2024-05-23T07:45:19.188137Z"
        },
        "id": "DB5y60KE-qCY"
      }
    },
    {
      "cell_type": "code",
      "source": [
        "df.describe()"
      ],
      "metadata": {
        "execution": {
          "iopub.status.busy": "2024-05-23T08:41:35.75616Z",
          "iopub.execute_input": "2024-05-23T08:41:35.756826Z",
          "iopub.status.idle": "2024-05-23T08:41:35.780986Z",
          "shell.execute_reply.started": "2024-05-23T08:41:35.756778Z",
          "shell.execute_reply": "2024-05-23T08:41:35.779713Z"
        },
        "trusted": true,
        "colab": {
          "base_uri": "https://localhost:8080/",
          "height": 300
        },
        "id": "Xm4Vngoj-qCY",
        "outputId": "53c018cd-5228-499b-baef-61168ae1372e"
      },
      "execution_count": 6,
      "outputs": [
        {
          "output_type": "execute_result",
          "data": {
            "text/plain": [
              "                age        gender\n",
              "count  23708.000000  23708.000000\n",
              "mean      33.303484      0.477349\n",
              "std       19.886112      0.499497\n",
              "min        1.000000      0.000000\n",
              "25%       23.000000      0.000000\n",
              "50%       29.000000      0.000000\n",
              "75%       45.000000      1.000000\n",
              "max      116.000000      1.000000"
            ],
            "text/html": [
              "\n",
              "  <div id=\"df-0f13f266-a416-4777-993a-420884c002f8\" class=\"colab-df-container\">\n",
              "    <div>\n",
              "<style scoped>\n",
              "    .dataframe tbody tr th:only-of-type {\n",
              "        vertical-align: middle;\n",
              "    }\n",
              "\n",
              "    .dataframe tbody tr th {\n",
              "        vertical-align: top;\n",
              "    }\n",
              "\n",
              "    .dataframe thead th {\n",
              "        text-align: right;\n",
              "    }\n",
              "</style>\n",
              "<table border=\"1\" class=\"dataframe\">\n",
              "  <thead>\n",
              "    <tr style=\"text-align: right;\">\n",
              "      <th></th>\n",
              "      <th>age</th>\n",
              "      <th>gender</th>\n",
              "    </tr>\n",
              "  </thead>\n",
              "  <tbody>\n",
              "    <tr>\n",
              "      <th>count</th>\n",
              "      <td>23708.000000</td>\n",
              "      <td>23708.000000</td>\n",
              "    </tr>\n",
              "    <tr>\n",
              "      <th>mean</th>\n",
              "      <td>33.303484</td>\n",
              "      <td>0.477349</td>\n",
              "    </tr>\n",
              "    <tr>\n",
              "      <th>std</th>\n",
              "      <td>19.886112</td>\n",
              "      <td>0.499497</td>\n",
              "    </tr>\n",
              "    <tr>\n",
              "      <th>min</th>\n",
              "      <td>1.000000</td>\n",
              "      <td>0.000000</td>\n",
              "    </tr>\n",
              "    <tr>\n",
              "      <th>25%</th>\n",
              "      <td>23.000000</td>\n",
              "      <td>0.000000</td>\n",
              "    </tr>\n",
              "    <tr>\n",
              "      <th>50%</th>\n",
              "      <td>29.000000</td>\n",
              "      <td>0.000000</td>\n",
              "    </tr>\n",
              "    <tr>\n",
              "      <th>75%</th>\n",
              "      <td>45.000000</td>\n",
              "      <td>1.000000</td>\n",
              "    </tr>\n",
              "    <tr>\n",
              "      <th>max</th>\n",
              "      <td>116.000000</td>\n",
              "      <td>1.000000</td>\n",
              "    </tr>\n",
              "  </tbody>\n",
              "</table>\n",
              "</div>\n",
              "    <div class=\"colab-df-buttons\">\n",
              "\n",
              "  <div class=\"colab-df-container\">\n",
              "    <button class=\"colab-df-convert\" onclick=\"convertToInteractive('df-0f13f266-a416-4777-993a-420884c002f8')\"\n",
              "            title=\"Convert this dataframe to an interactive table.\"\n",
              "            style=\"display:none;\">\n",
              "\n",
              "  <svg xmlns=\"http://www.w3.org/2000/svg\" height=\"24px\" viewBox=\"0 -960 960 960\">\n",
              "    <path d=\"M120-120v-720h720v720H120Zm60-500h600v-160H180v160Zm220 220h160v-160H400v160Zm0 220h160v-160H400v160ZM180-400h160v-160H180v160Zm440 0h160v-160H620v160ZM180-180h160v-160H180v160Zm440 0h160v-160H620v160Z\"/>\n",
              "  </svg>\n",
              "    </button>\n",
              "\n",
              "  <style>\n",
              "    .colab-df-container {\n",
              "      display:flex;\n",
              "      gap: 12px;\n",
              "    }\n",
              "\n",
              "    .colab-df-convert {\n",
              "      background-color: #E8F0FE;\n",
              "      border: none;\n",
              "      border-radius: 50%;\n",
              "      cursor: pointer;\n",
              "      display: none;\n",
              "      fill: #1967D2;\n",
              "      height: 32px;\n",
              "      padding: 0 0 0 0;\n",
              "      width: 32px;\n",
              "    }\n",
              "\n",
              "    .colab-df-convert:hover {\n",
              "      background-color: #E2EBFA;\n",
              "      box-shadow: 0px 1px 2px rgba(60, 64, 67, 0.3), 0px 1px 3px 1px rgba(60, 64, 67, 0.15);\n",
              "      fill: #174EA6;\n",
              "    }\n",
              "\n",
              "    .colab-df-buttons div {\n",
              "      margin-bottom: 4px;\n",
              "    }\n",
              "\n",
              "    [theme=dark] .colab-df-convert {\n",
              "      background-color: #3B4455;\n",
              "      fill: #D2E3FC;\n",
              "    }\n",
              "\n",
              "    [theme=dark] .colab-df-convert:hover {\n",
              "      background-color: #434B5C;\n",
              "      box-shadow: 0px 1px 3px 1px rgba(0, 0, 0, 0.15);\n",
              "      filter: drop-shadow(0px 1px 2px rgba(0, 0, 0, 0.3));\n",
              "      fill: #FFFFFF;\n",
              "    }\n",
              "  </style>\n",
              "\n",
              "    <script>\n",
              "      const buttonEl =\n",
              "        document.querySelector('#df-0f13f266-a416-4777-993a-420884c002f8 button.colab-df-convert');\n",
              "      buttonEl.style.display =\n",
              "        google.colab.kernel.accessAllowed ? 'block' : 'none';\n",
              "\n",
              "      async function convertToInteractive(key) {\n",
              "        const element = document.querySelector('#df-0f13f266-a416-4777-993a-420884c002f8');\n",
              "        const dataTable =\n",
              "          await google.colab.kernel.invokeFunction('convertToInteractive',\n",
              "                                                    [key], {});\n",
              "        if (!dataTable) return;\n",
              "\n",
              "        const docLinkHtml = 'Like what you see? Visit the ' +\n",
              "          '<a target=\"_blank\" href=https://colab.research.google.com/notebooks/data_table.ipynb>data table notebook</a>'\n",
              "          + ' to learn more about interactive tables.';\n",
              "        element.innerHTML = '';\n",
              "        dataTable['output_type'] = 'display_data';\n",
              "        await google.colab.output.renderOutput(dataTable, element);\n",
              "        const docLink = document.createElement('div');\n",
              "        docLink.innerHTML = docLinkHtml;\n",
              "        element.appendChild(docLink);\n",
              "      }\n",
              "    </script>\n",
              "  </div>\n",
              "\n",
              "\n",
              "<div id=\"df-7dde672e-9793-4c23-acec-cd47505ac93d\">\n",
              "  <button class=\"colab-df-quickchart\" onclick=\"quickchart('df-7dde672e-9793-4c23-acec-cd47505ac93d')\"\n",
              "            title=\"Suggest charts\"\n",
              "            style=\"display:none;\">\n",
              "\n",
              "<svg xmlns=\"http://www.w3.org/2000/svg\" height=\"24px\"viewBox=\"0 0 24 24\"\n",
              "     width=\"24px\">\n",
              "    <g>\n",
              "        <path d=\"M19 3H5c-1.1 0-2 .9-2 2v14c0 1.1.9 2 2 2h14c1.1 0 2-.9 2-2V5c0-1.1-.9-2-2-2zM9 17H7v-7h2v7zm4 0h-2V7h2v10zm4 0h-2v-4h2v4z\"/>\n",
              "    </g>\n",
              "</svg>\n",
              "  </button>\n",
              "\n",
              "<style>\n",
              "  .colab-df-quickchart {\n",
              "      --bg-color: #E8F0FE;\n",
              "      --fill-color: #1967D2;\n",
              "      --hover-bg-color: #E2EBFA;\n",
              "      --hover-fill-color: #174EA6;\n",
              "      --disabled-fill-color: #AAA;\n",
              "      --disabled-bg-color: #DDD;\n",
              "  }\n",
              "\n",
              "  [theme=dark] .colab-df-quickchart {\n",
              "      --bg-color: #3B4455;\n",
              "      --fill-color: #D2E3FC;\n",
              "      --hover-bg-color: #434B5C;\n",
              "      --hover-fill-color: #FFFFFF;\n",
              "      --disabled-bg-color: #3B4455;\n",
              "      --disabled-fill-color: #666;\n",
              "  }\n",
              "\n",
              "  .colab-df-quickchart {\n",
              "    background-color: var(--bg-color);\n",
              "    border: none;\n",
              "    border-radius: 50%;\n",
              "    cursor: pointer;\n",
              "    display: none;\n",
              "    fill: var(--fill-color);\n",
              "    height: 32px;\n",
              "    padding: 0;\n",
              "    width: 32px;\n",
              "  }\n",
              "\n",
              "  .colab-df-quickchart:hover {\n",
              "    background-color: var(--hover-bg-color);\n",
              "    box-shadow: 0 1px 2px rgba(60, 64, 67, 0.3), 0 1px 3px 1px rgba(60, 64, 67, 0.15);\n",
              "    fill: var(--button-hover-fill-color);\n",
              "  }\n",
              "\n",
              "  .colab-df-quickchart-complete:disabled,\n",
              "  .colab-df-quickchart-complete:disabled:hover {\n",
              "    background-color: var(--disabled-bg-color);\n",
              "    fill: var(--disabled-fill-color);\n",
              "    box-shadow: none;\n",
              "  }\n",
              "\n",
              "  .colab-df-spinner {\n",
              "    border: 2px solid var(--fill-color);\n",
              "    border-color: transparent;\n",
              "    border-bottom-color: var(--fill-color);\n",
              "    animation:\n",
              "      spin 1s steps(1) infinite;\n",
              "  }\n",
              "\n",
              "  @keyframes spin {\n",
              "    0% {\n",
              "      border-color: transparent;\n",
              "      border-bottom-color: var(--fill-color);\n",
              "      border-left-color: var(--fill-color);\n",
              "    }\n",
              "    20% {\n",
              "      border-color: transparent;\n",
              "      border-left-color: var(--fill-color);\n",
              "      border-top-color: var(--fill-color);\n",
              "    }\n",
              "    30% {\n",
              "      border-color: transparent;\n",
              "      border-left-color: var(--fill-color);\n",
              "      border-top-color: var(--fill-color);\n",
              "      border-right-color: var(--fill-color);\n",
              "    }\n",
              "    40% {\n",
              "      border-color: transparent;\n",
              "      border-right-color: var(--fill-color);\n",
              "      border-top-color: var(--fill-color);\n",
              "    }\n",
              "    60% {\n",
              "      border-color: transparent;\n",
              "      border-right-color: var(--fill-color);\n",
              "    }\n",
              "    80% {\n",
              "      border-color: transparent;\n",
              "      border-right-color: var(--fill-color);\n",
              "      border-bottom-color: var(--fill-color);\n",
              "    }\n",
              "    90% {\n",
              "      border-color: transparent;\n",
              "      border-bottom-color: var(--fill-color);\n",
              "    }\n",
              "  }\n",
              "</style>\n",
              "\n",
              "  <script>\n",
              "    async function quickchart(key) {\n",
              "      const quickchartButtonEl =\n",
              "        document.querySelector('#' + key + ' button');\n",
              "      quickchartButtonEl.disabled = true;  // To prevent multiple clicks.\n",
              "      quickchartButtonEl.classList.add('colab-df-spinner');\n",
              "      try {\n",
              "        const charts = await google.colab.kernel.invokeFunction(\n",
              "            'suggestCharts', [key], {});\n",
              "      } catch (error) {\n",
              "        console.error('Error during call to suggestCharts:', error);\n",
              "      }\n",
              "      quickchartButtonEl.classList.remove('colab-df-spinner');\n",
              "      quickchartButtonEl.classList.add('colab-df-quickchart-complete');\n",
              "    }\n",
              "    (() => {\n",
              "      let quickchartButtonEl =\n",
              "        document.querySelector('#df-7dde672e-9793-4c23-acec-cd47505ac93d button');\n",
              "      quickchartButtonEl.style.display =\n",
              "        google.colab.kernel.accessAllowed ? 'block' : 'none';\n",
              "    })();\n",
              "  </script>\n",
              "</div>\n",
              "\n",
              "    </div>\n",
              "  </div>\n"
            ],
            "application/vnd.google.colaboratory.intrinsic+json": {
              "type": "dataframe",
              "summary": "{\n  \"name\": \"df\",\n  \"rows\": 8,\n  \"fields\": [\n    {\n      \"column\": \"age\",\n      \"properties\": {\n        \"dtype\": \"number\",\n        \"std\": 8368.618302587633,\n        \"min\": 1.0,\n        \"max\": 23708.0,\n        \"num_unique_values\": 8,\n        \"samples\": [\n          33.303484056014845,\n          29.0,\n          23708.0\n        ],\n        \"semantic_type\": \"\",\n        \"description\": \"\"\n      }\n    },\n    {\n      \"column\": \"gender\",\n      \"properties\": {\n        \"dtype\": \"number\",\n        \"std\": 8381.893441048325,\n        \"min\": 0.0,\n        \"max\": 23708.0,\n        \"num_unique_values\": 5,\n        \"samples\": [\n          0.47734941791800234,\n          1.0,\n          0.4994972221130325\n        ],\n        \"semantic_type\": \"\",\n        \"description\": \"\"\n      }\n    }\n  ]\n}"
            }
          },
          "metadata": {},
          "execution_count": 6
        }
      ]
    },
    {
      "cell_type": "code",
      "source": [
        "sns.histplot(df['age'])"
      ],
      "metadata": {
        "execution": {
          "iopub.status.busy": "2024-05-23T08:41:35.784709Z",
          "iopub.execute_input": "2024-05-23T08:41:35.7851Z",
          "iopub.status.idle": "2024-05-23T08:41:36.284651Z",
          "shell.execute_reply.started": "2024-05-23T08:41:35.785067Z",
          "shell.execute_reply": "2024-05-23T08:41:36.283451Z"
        },
        "trusted": true,
        "colab": {
          "base_uri": "https://localhost:8080/",
          "height": 466
        },
        "id": "ayXf26QI-qCZ",
        "outputId": "0ce1cb6b-a454-4e01-efc3-a8a9bc587d8e"
      },
      "execution_count": 7,
      "outputs": [
        {
          "output_type": "execute_result",
          "data": {
            "text/plain": [
              "<Axes: xlabel='age', ylabel='Count'>"
            ]
          },
          "metadata": {},
          "execution_count": 7
        },
        {
          "output_type": "display_data",
          "data": {
            "text/plain": [
              "<Figure size 640x480 with 1 Axes>"
            ],
            "image/png": "[encoded data removed]"
          },
          "metadata": {}
        }
      ]
    },
    {
      "cell_type": "code",
      "source": [
        "print(df.isnull().sum())"
      ],
      "metadata": {
        "execution": {
          "iopub.status.busy": "2024-05-23T08:43:39.853704Z",
          "iopub.execute_input": "2024-05-23T08:43:39.854129Z",
          "iopub.status.idle": "2024-05-23T08:43:39.865917Z",
          "shell.execute_reply.started": "2024-05-23T08:43:39.854086Z",
          "shell.execute_reply": "2024-05-23T08:43:39.864471Z"
        },
        "trusted": true,
        "colab": {
          "base_uri": "https://localhost:8080/"
        },
        "id": "hvJG_UzN-qCZ",
        "outputId": "47693c33-eec4-4477-e883-b97572273253"
      },
      "execution_count": 8,
      "outputs": [
        {
          "output_type": "stream",
          "name": "stdout",
          "text": [
            "image     0\n",
            "age       0\n",
            "gender    0\n",
            "dtype: int64\n"
          ]
        }
      ]
    },
    {
      "cell_type": "code",
      "source": [
        "plt.figure(figsize=(5, 5))\n",
        "sns.boxplot(x='age', data=df)\n",
        "plt.title('Boxplot of Age')\n",
        "plt.show()"
      ],
      "metadata": {
        "execution": {
          "iopub.status.busy": "2024-05-23T08:43:43.232401Z",
          "iopub.execute_input": "2024-05-23T08:43:43.23281Z",
          "iopub.status.idle": "2024-05-23T08:43:43.461732Z",
          "shell.execute_reply.started": "2024-05-23T08:43:43.232779Z",
          "shell.execute_reply": "2024-05-23T08:43:43.46035Z"
        },
        "trusted": true,
        "colab": {
          "base_uri": "https://localhost:8080/",
          "height": 487
        },
        "id": "q0rnLwlf-qCZ",
        "outputId": "20484282-f6a7-4288-c9bd-2130449f8880"
      },
      "execution_count": 9,
      "outputs": [
        {
          "output_type": "display_data",
          "data": {
            "text/plain": [
              "<Figure size 500x500 with 1 Axes>"
            ],
            "image/png": "[encoded data removed]"
          },
          "metadata": {}
        }
      ]
    },
    {
      "cell_type": "code",
      "source": [
        "Q1 = df['age'].quantile(0.25)\n",
        "Q3 = df['age'].quantile(0.75)\n",
        "IQR = Q3 - Q1"
      ],
      "metadata": {
        "execution": {
          "iopub.status.busy": "2024-05-23T08:43:52.091461Z",
          "iopub.execute_input": "2024-05-23T08:43:52.092198Z",
          "iopub.status.idle": "2024-05-23T08:43:52.1014Z",
          "shell.execute_reply.started": "2024-05-23T08:43:52.092149Z",
          "shell.execute_reply": "2024-05-23T08:43:52.099941Z"
        },
        "trusted": true,
        "id": "CJvgtavO-qCZ"
      },
      "execution_count": 10,
      "outputs": []
    },
    {
      "cell_type": "code",
      "source": [
        "lower_bound = Q1 - 1.5 * IQR\n",
        "upper_bound = Q3 + 1.5 * IQR\n",
        "\n",
        "\n",
        "df_no_outliers = df[(df['age'] >= lower_bound) & (df['age'] <= upper_bound)]\n",
        "\n",
        "\n",
        "num_outliers_removed = len(df) - len(df_no_outliers)\n",
        "print(f\"Number of outliers removed: {num_outliers_removed}\")"
      ],
      "metadata": {
        "execution": {
          "iopub.status.busy": "2024-05-23T08:43:56.515561Z",
          "iopub.execute_input": "2024-05-23T08:43:56.515996Z",
          "iopub.status.idle": "2024-05-23T08:43:56.528601Z",
          "shell.execute_reply.started": "2024-05-23T08:43:56.515963Z",
          "shell.execute_reply": "2024-05-23T08:43:56.527026Z"
        },
        "trusted": true,
        "colab": {
          "base_uri": "https://localhost:8080/"
        },
        "id": "eBi4up3E-qCZ",
        "outputId": "d41ed9ae-c69e-48e3-eea2-bde270c811af"
      },
      "execution_count": 11,
      "outputs": [
        {
          "output_type": "stream",
          "name": "stdout",
          "text": [
            "Number of outliers removed: 696\n"
          ]
        }
      ]
    },
    {
      "cell_type": "code",
      "source": [
        "# Correlation matrix\n",
        "plt.figure(figsize=(6, 4))\n",
        "sns.heatmap(df[['age', 'gender']].corr(), annot=True, cmap='coolwarm')\n",
        "plt.title('Correlation Matrix')\n",
        "plt.show()\n"
      ],
      "metadata": {
        "execution": {
          "iopub.status.busy": "2024-05-23T08:43:59.74201Z",
          "iopub.execute_input": "2024-05-23T08:43:59.742678Z",
          "iopub.status.idle": "2024-05-23T08:44:00.061265Z",
          "shell.execute_reply.started": "2024-05-23T08:43:59.742635Z",
          "shell.execute_reply": "2024-05-23T08:44:00.059553Z"
        },
        "trusted": true,
        "colab": {
          "base_uri": "https://localhost:8080/",
          "height": 391
        },
        "id": "rn6Ocv9x-qCZ",
        "outputId": "a490f66b-ca77-4dee-bce6-bb9083895faf"
      },
      "execution_count": 12,
      "outputs": [
        {
          "output_type": "display_data",
          "data": {
            "text/plain": [
              "<Figure size 600x400 with 2 Axes>"
            ],
            "image/png": "[encoded data removed]"
          },
          "metadata": {}
        }
      ]
    },
    {
      "cell_type": "code",
      "source": [
        "# Joint distribution of age and gender\n",
        "age_gender_pivot = df.pivot_table(index='age', columns='gender', aggfunc='size', fill_value=0)\n",
        "plt.figure(figsize=(4, 5))\n",
        "sns.heatmap(age_gender_pivot, cmap=\"YlGnBu\", annot=False)\n",
        "plt.title('Joint Distribution of Age and Gender')\n",
        "plt.xlabel('Gender (0 = Male, 1 = Female)')\n",
        "plt.ylabel('Age')\n",
        "plt.show()\n"
      ],
      "metadata": {
        "execution": {
          "iopub.status.busy": "2024-05-23T08:44:03.281081Z",
          "iopub.execute_input": "2024-05-23T08:44:03.282623Z",
          "iopub.status.idle": "2024-05-23T08:44:03.841737Z",
          "shell.execute_reply.started": "2024-05-23T08:44:03.282578Z",
          "shell.execute_reply": "2024-05-23T08:44:03.840683Z"
        },
        "trusted": true,
        "colab": {
          "base_uri": "https://localhost:8080/",
          "height": 487
        },
        "id": "dAMn-xmP-qCa",
        "outputId": "2452dd87-f2f5-44c8-f0f4-623fc4e69d2f"
      },
      "execution_count": 13,
      "outputs": [
        {
          "output_type": "display_data",
          "data": {
            "text/plain": [
              "<Figure size 400x500 with 2 Axes>"
            ],
            "image/png": "[encoded data removed]"
          },
          "metadata": {}
        }
      ]
    },
    {
      "cell_type": "code",
      "source": [
        "def extract_features(images):\n",
        "    features = []\n",
        "    for image in tqdm(images):\n",
        "        img = load_img(image, color_mode='grayscale')\n",
        "        img = img.resize((128, 128), Image.ANTIALIAS)\n",
        "        img = np.array(img)\n",
        "        features.append(img)\n",
        "\n",
        "    features = np.array(features)\n",
        "    # ignore this step if using RGB\n",
        "    features = features.reshape(len(features), 128, 128, 1)\n",
        "    return features"
      ],
      "metadata": {
        "id": "1Ac1UT2SIXEk"
      },
      "execution_count": 14,
      "outputs": []
    },
    {
      "cell_type": "code",
      "source": [
        "X = extract_features(df['image'])"
      ],
      "metadata": {
        "colab": {
          "base_uri": "https://localhost:8080/"
        },
        "id": "1ddXuUS-IkUo",
        "outputId": "faf4a866-fcb8-4817-975c-dedcf6fc28eb"
      },
      "execution_count": 18,
      "outputs": [
        {
          "output_type": "stream",
          "name": "stderr",
          "text": [
            "100%|██████████| 23708/23708 [00:24<00:00, 973.56it/s] \n"
          ]
        }
      ]
    },
    {
      "cell_type": "code",
      "source": [
        "X.shape"
      ],
      "metadata": {
        "colab": {
          "base_uri": "https://localhost:8080/"
        },
        "id": "Hd84vD0hJT54",
        "outputId": "3e38d35e-e462-484b-8518-792fea19a7da"
      },
      "execution_count": 16,
      "outputs": [
        {
          "output_type": "execute_result",
          "data": {
            "text/plain": [
              "(23708, 128, 128, 1)"
            ]
          },
          "metadata": {},
          "execution_count": 16
        }
      ]
    },
    {
      "cell_type": "code",
      "source": [
        "# normalize the images\n",
        "X = X/255.0"
      ],
      "metadata": {
        "id": "iiMvNvO3JaQQ"
      },
      "execution_count": 17,
      "outputs": []
    },
    {
      "cell_type": "code",
      "source": [
        "y_gender = np.array(df['gender'])\n",
        "y_age = np.array(df['age'])\n"
      ],
      "metadata": {
        "id": "wB8iaQ-CJcWG"
      },
      "execution_count": 19,
      "outputs": []
    },
    {
      "cell_type": "code",
      "source": [
        "X_train, X_test, y_age_train, y_age_test, y_gender_train, y_gender_test = train_test_split(\n",
        "    X, y_age, y_gender, test_size=0.2, random_state=42)"
      ],
      "metadata": {
        "id": "AENHGu9xOtmN"
      },
      "execution_count": 33,
      "outputs": []
    },
    {
      "cell_type": "code",
      "source": [
        "from tensorflow.keras.layers import Input, Conv2D, MaxPooling2D, Flatten, Dense, Dropout\n",
        "\n",
        "input_shape = (128, 128, 1)\n",
        "inputs = Input(input_shape)\n",
        "x = inputs\n",
        "\n",
        "# Convolutional layers\n",
        "filters = [32, 64, 128, 256]\n",
        "for f in filters:\n",
        "    x = Conv2D(f, kernel_size=(3, 3), activation='relu')(x)\n",
        "    x = MaxPooling2D(pool_size=(2, 2))(x)\n",
        "\n",
        "# Flatten layer\n",
        "x = Flatten()(x)\n",
        "\n",
        "# Fully connected layers with dropout\n",
        "x = Dense(256, activation='relu')(x)\n",
        "x = Dropout(0.4)(x)\n",
        "\n",
        "# Output layers\n",
        "gender_out = Dense(1, activation='sigmoid', name='gender_out')(x)\n",
        "age_out = Dense(1, activation='relu', name='age_out')(x)\n"
      ],
      "metadata": {
        "id": "JJS8tCNkLwVF"
      },
      "execution_count": 43,
      "outputs": []
    },
    {
      "cell_type": "code",
      "source": [
        "model = Model(inputs=inputs, outputs=[gender_out, age_out])\n",
        "\n",
        "# Compile model\n",
        "model.compile(loss=['binary_crossentropy', 'mae'], optimizer='adam', metrics=['accuracy', 'mae'])"
      ],
      "metadata": {
        "id": "VJd9OFkMLybd"
      },
      "execution_count": 46,
      "outputs": []
    },
    {
      "cell_type": "code",
      "source": [
        "history = model.fit(x=X, y=[y_gender, y_age], batch_size=32, epochs=25, validation_split=0.2)"
      ],
      "metadata": {
        "colab": {
          "base_uri": "https://localhost:8080/"
        },
        "id": "SZ9f_Ij6STjD",
        "outputId": "d10d08e1-7e8c-4ce2-c11d-dda9f7ef08f1"
      },
      "execution_count": 47,
      "outputs": [
        {
          "output_type": "stream",
          "name": "stdout",
          "text": [
            "Epoch 1/25\n",
            "593/593 [==============================] - 14s 20ms/step - loss: 15.5595 - gender_out_loss: 0.8132 - age_out_loss: 14.7463 - gender_out_accuracy: 0.6258 - gender_out_mae: 0.4248 - age_out_accuracy: 0.0448 - age_out_mae: 14.7463 - val_loss: 11.0311 - val_gender_out_loss: 0.5405 - val_age_out_loss: 10.4907 - val_gender_out_accuracy: 0.7436 - val_gender_out_mae: 0.3898 - val_age_out_accuracy: 0.0335 - val_age_out_mae: 10.4907\n",
            "Epoch 2/25\n",
            "593/593 [==============================] - 11s 19ms/step - loss: 11.5145 - gender_out_loss: 0.5793 - age_out_loss: 10.9351 - gender_out_accuracy: 0.6981 - gender_out_mae: 0.3825 - age_out_accuracy: 0.0368 - age_out_mae: 10.9351 - val_loss: 9.6783 - val_gender_out_loss: 0.5394 - val_age_out_loss: 9.1389 - val_gender_out_accuracy: 0.7204 - val_gender_out_mae: 0.3718 - val_age_out_accuracy: 0.0403 - val_age_out_mae: 9.1389\n",
            "Epoch 3/25\n",
            "593/593 [==============================] - 12s 20ms/step - loss: 10.4686 - gender_out_loss: 0.5512 - age_out_loss: 9.9174 - gender_out_accuracy: 0.7210 - gender_out_mae: 0.3661 - age_out_accuracy: 0.0408 - age_out_mae: 9.9174 - val_loss: 9.2609 - val_gender_out_loss: 0.4809 - val_age_out_loss: 8.7800 - val_gender_out_accuracy: 0.7845 - val_gender_out_mae: 0.3432 - val_age_out_accuracy: 0.0462 - val_age_out_mae: 8.7800\n",
            "Epoch 4/25\n",
            "593/593 [==============================] - 12s 20ms/step - loss: 10.0159 - gender_out_loss: 0.5307 - age_out_loss: 9.4852 - gender_out_accuracy: 0.7387 - gender_out_mae: 0.3457 - age_out_accuracy: 0.0473 - age_out_mae: 9.4852 - val_loss: 9.6464 - val_gender_out_loss: 0.4755 - val_age_out_loss: 9.1708 - val_gender_out_accuracy: 0.7817 - val_gender_out_mae: 0.3275 - val_age_out_accuracy: 0.0462 - val_age_out_mae: 9.1708\n",
            "Epoch 5/25\n",
            "593/593 [==============================] - 12s 20ms/step - loss: 9.3728 - gender_out_loss: 0.4816 - age_out_loss: 8.8913 - gender_out_accuracy: 0.7672 - gender_out_mae: 0.3117 - age_out_accuracy: 0.0477 - age_out_mae: 8.8913 - val_loss: 8.4818 - val_gender_out_loss: 0.3785 - val_age_out_loss: 8.1033 - val_gender_out_accuracy: 0.8279 - val_gender_out_mae: 0.2657 - val_age_out_accuracy: 0.0462 - val_age_out_mae: 8.1033\n",
            "Epoch 6/25\n",
            "593/593 [==============================] - 12s 20ms/step - loss: 9.0938 - gender_out_loss: 0.4661 - age_out_loss: 8.6276 - gender_out_accuracy: 0.7737 - gender_out_mae: 0.2993 - age_out_accuracy: 0.0473 - age_out_mae: 8.6276 - val_loss: 10.3061 - val_gender_out_loss: 0.3724 - val_age_out_loss: 9.9337 - val_gender_out_accuracy: 0.8311 - val_gender_out_mae: 0.2440 - val_age_out_accuracy: 0.0462 - val_age_out_mae: 9.9337\n",
            "Epoch 7/25\n",
            "593/593 [==============================] - 12s 19ms/step - loss: 8.8242 - gender_out_loss: 0.4539 - age_out_loss: 8.3703 - gender_out_accuracy: 0.7787 - gender_out_mae: 0.2946 - age_out_accuracy: 0.0477 - age_out_mae: 8.3703 - val_loss: 7.9948 - val_gender_out_loss: 0.3734 - val_age_out_loss: 7.6214 - val_gender_out_accuracy: 0.8302 - val_gender_out_mae: 0.2599 - val_age_out_accuracy: 0.0462 - val_age_out_mae: 7.6214\n",
            "Epoch 8/25\n",
            "593/593 [==============================] - 12s 21ms/step - loss: 8.6547 - gender_out_loss: 0.4409 - age_out_loss: 8.2138 - gender_out_accuracy: 0.7865 - gender_out_mae: 0.2837 - age_out_accuracy: 0.0476 - age_out_mae: 8.2138 - val_loss: 8.2063 - val_gender_out_loss: 0.4731 - val_age_out_loss: 7.7332 - val_gender_out_accuracy: 0.7609 - val_gender_out_mae: 0.2889 - val_age_out_accuracy: 0.0462 - val_age_out_mae: 7.7332\n",
            "Epoch 9/25\n",
            "593/593 [==============================] - 12s 20ms/step - loss: 8.4415 - gender_out_loss: 0.4394 - age_out_loss: 8.0021 - gender_out_accuracy: 0.7895 - gender_out_mae: 0.2810 - age_out_accuracy: 0.0476 - age_out_mae: 8.0021 - val_loss: 7.8373 - val_gender_out_loss: 0.3504 - val_age_out_loss: 7.4869 - val_gender_out_accuracy: 0.8397 - val_gender_out_mae: 0.2395 - val_age_out_accuracy: 0.0462 - val_age_out_mae: 7.4869\n",
            "Epoch 10/25\n",
            "593/593 [==============================] - 12s 20ms/step - loss: 8.2895 - gender_out_loss: 0.4286 - age_out_loss: 7.8609 - gender_out_accuracy: 0.7963 - gender_out_mae: 0.2738 - age_out_accuracy: 0.0477 - age_out_mae: 7.8609 - val_loss: 9.2981 - val_gender_out_loss: 0.3908 - val_age_out_loss: 8.9072 - val_gender_out_accuracy: 0.8294 - val_gender_out_mae: 0.2758 - val_age_out_accuracy: 0.0462 - val_age_out_mae: 8.9072\n",
            "Epoch 11/25\n",
            "593/593 [==============================] - 12s 20ms/step - loss: 8.1800 - gender_out_loss: 0.4257 - age_out_loss: 7.7543 - gender_out_accuracy: 0.7960 - gender_out_mae: 0.2727 - age_out_accuracy: 0.0477 - age_out_mae: 7.7543 - val_loss: 7.7552 - val_gender_out_loss: 0.3775 - val_age_out_loss: 7.3776 - val_gender_out_accuracy: 0.8288 - val_gender_out_mae: 0.2445 - val_age_out_accuracy: 0.0462 - val_age_out_mae: 7.3776\n",
            "Epoch 12/25\n",
            "593/593 [==============================] - 11s 19ms/step - loss: 8.0459 - gender_out_loss: 0.4161 - age_out_loss: 7.6297 - gender_out_accuracy: 0.8022 - gender_out_mae: 0.2675 - age_out_accuracy: 0.0477 - age_out_mae: 7.6297 - val_loss: 7.6260 - val_gender_out_loss: 0.3220 - val_age_out_loss: 7.3039 - val_gender_out_accuracy: 0.8520 - val_gender_out_mae: 0.2118 - val_age_out_accuracy: 0.0462 - val_age_out_mae: 7.3039\n",
            "Epoch 13/25\n",
            "593/593 [==============================] - 11s 19ms/step - loss: 7.8846 - gender_out_loss: 0.4064 - age_out_loss: 7.4783 - gender_out_accuracy: 0.8028 - gender_out_mae: 0.2604 - age_out_accuracy: 0.0476 - age_out_mae: 7.4783 - val_loss: 7.4149 - val_gender_out_loss: 0.3354 - val_age_out_loss: 7.0795 - val_gender_out_accuracy: 0.8475 - val_gender_out_mae: 0.2217 - val_age_out_accuracy: 0.0462 - val_age_out_mae: 7.0795\n",
            "Epoch 14/25\n",
            "593/593 [==============================] - 12s 20ms/step - loss: 7.7317 - gender_out_loss: 0.4030 - age_out_loss: 7.3287 - gender_out_accuracy: 0.8090 - gender_out_mae: 0.2552 - age_out_accuracy: 0.0477 - age_out_mae: 7.3287 - val_loss: 8.1772 - val_gender_out_loss: 0.3310 - val_age_out_loss: 7.8462 - val_gender_out_accuracy: 0.8461 - val_gender_out_mae: 0.2210 - val_age_out_accuracy: 0.0462 - val_age_out_mae: 7.8462\n",
            "Epoch 15/25\n",
            "593/593 [==============================] - 12s 20ms/step - loss: 7.6999 - gender_out_loss: 0.4030 - age_out_loss: 7.2969 - gender_out_accuracy: 0.8109 - gender_out_mae: 0.2539 - age_out_accuracy: 0.0477 - age_out_mae: 7.2969 - val_loss: 7.8894 - val_gender_out_loss: 0.3311 - val_age_out_loss: 7.5584 - val_gender_out_accuracy: 0.8484 - val_gender_out_mae: 0.2216 - val_age_out_accuracy: 0.0462 - val_age_out_mae: 7.5584\n",
            "Epoch 16/25\n",
            "593/593 [==============================] - 12s 19ms/step - loss: 7.5770 - gender_out_loss: 0.3947 - age_out_loss: 7.1823 - gender_out_accuracy: 0.8151 - gender_out_mae: 0.2514 - age_out_accuracy: 0.0477 - age_out_mae: 7.1823 - val_loss: 7.8702 - val_gender_out_loss: 0.3130 - val_age_out_loss: 7.5572 - val_gender_out_accuracy: 0.8560 - val_gender_out_mae: 0.2135 - val_age_out_accuracy: 0.0462 - val_age_out_mae: 7.5572\n",
            "Epoch 17/25\n",
            "593/593 [==============================] - 11s 19ms/step - loss: 7.4630 - gender_out_loss: 0.3924 - age_out_loss: 7.0706 - gender_out_accuracy: 0.8175 - gender_out_mae: 0.2477 - age_out_accuracy: 0.0477 - age_out_mae: 7.0706 - val_loss: 7.6370 - val_gender_out_loss: 0.3176 - val_age_out_loss: 7.3194 - val_gender_out_accuracy: 0.8564 - val_gender_out_mae: 0.2121 - val_age_out_accuracy: 0.0462 - val_age_out_mae: 7.3194\n",
            "Epoch 18/25\n",
            "593/593 [==============================] - 12s 19ms/step - loss: 7.4108 - gender_out_loss: 0.3984 - age_out_loss: 7.0125 - gender_out_accuracy: 0.8159 - gender_out_mae: 0.2504 - age_out_accuracy: 0.0477 - age_out_mae: 7.0125 - val_loss: 7.5265 - val_gender_out_loss: 0.3286 - val_age_out_loss: 7.1979 - val_gender_out_accuracy: 0.8532 - val_gender_out_mae: 0.2099 - val_age_out_accuracy: 0.0462 - val_age_out_mae: 7.1979\n",
            "Epoch 19/25\n",
            "593/593 [==============================] - 11s 19ms/step - loss: 7.2694 - gender_out_loss: 0.3902 - age_out_loss: 6.8792 - gender_out_accuracy: 0.8176 - gender_out_mae: 0.2468 - age_out_accuracy: 0.0477 - age_out_mae: 6.8792 - val_loss: 7.4432 - val_gender_out_loss: 0.3154 - val_age_out_loss: 7.1277 - val_gender_out_accuracy: 0.8545 - val_gender_out_mae: 0.2054 - val_age_out_accuracy: 0.0462 - val_age_out_mae: 7.1277\n",
            "Epoch 20/25\n",
            "593/593 [==============================] - 12s 20ms/step - loss: 7.1136 - gender_out_loss: 0.3821 - age_out_loss: 6.7315 - gender_out_accuracy: 0.8178 - gender_out_mae: 0.2400 - age_out_accuracy: 0.0477 - age_out_mae: 6.7315 - val_loss: 7.5002 - val_gender_out_loss: 0.3082 - val_age_out_loss: 7.1920 - val_gender_out_accuracy: 0.8549 - val_gender_out_mae: 0.1968 - val_age_out_accuracy: 0.0462 - val_age_out_mae: 7.1920\n",
            "Epoch 21/25\n",
            "593/593 [==============================] - 12s 20ms/step - loss: 7.1240 - gender_out_loss: 0.3746 - age_out_loss: 6.7494 - gender_out_accuracy: 0.8218 - gender_out_mae: 0.2356 - age_out_accuracy: 0.0477 - age_out_mae: 6.7494 - val_loss: 7.8347 - val_gender_out_loss: 0.3026 - val_age_out_loss: 7.5322 - val_gender_out_accuracy: 0.8638 - val_gender_out_mae: 0.2015 - val_age_out_accuracy: 0.0462 - val_age_out_mae: 7.5322\n",
            "Epoch 22/25\n",
            "593/593 [==============================] - 11s 19ms/step - loss: 7.0869 - gender_out_loss: 0.3762 - age_out_loss: 6.7107 - gender_out_accuracy: 0.8208 - gender_out_mae: 0.2349 - age_out_accuracy: 0.0477 - age_out_mae: 6.7107 - val_loss: 7.6188 - val_gender_out_loss: 0.3045 - val_age_out_loss: 7.3143 - val_gender_out_accuracy: 0.8566 - val_gender_out_mae: 0.1935 - val_age_out_accuracy: 0.0462 - val_age_out_mae: 7.3143\n",
            "Epoch 23/25\n",
            "593/593 [==============================] - 11s 19ms/step - loss: 7.0656 - gender_out_loss: 0.3716 - age_out_loss: 6.6941 - gender_out_accuracy: 0.8253 - gender_out_mae: 0.2324 - age_out_accuracy: 0.0477 - age_out_mae: 6.6941 - val_loss: 7.5066 - val_gender_out_loss: 0.3145 - val_age_out_loss: 7.1920 - val_gender_out_accuracy: 0.8509 - val_gender_out_mae: 0.2073 - val_age_out_accuracy: 0.0462 - val_age_out_mae: 7.1920\n",
            "Epoch 24/25\n",
            "593/593 [==============================] - 12s 20ms/step - loss: 7.0400 - gender_out_loss: 0.3707 - age_out_loss: 6.6693 - gender_out_accuracy: 0.8236 - gender_out_mae: 0.2305 - age_out_accuracy: 0.0476 - age_out_mae: 6.6693 - val_loss: 7.6294 - val_gender_out_loss: 0.3066 - val_age_out_loss: 7.3227 - val_gender_out_accuracy: 0.8566 - val_gender_out_mae: 0.1972 - val_age_out_accuracy: 0.0462 - val_age_out_mae: 7.3227\n",
            "Epoch 25/25\n",
            "593/593 [==============================] - 11s 19ms/step - loss: 6.9147 - gender_out_loss: 0.3602 - age_out_loss: 6.5545 - gender_out_accuracy: 0.8272 - gender_out_mae: 0.2244 - age_out_accuracy: 0.0477 - age_out_mae: 6.5545 - val_loss: 7.3806 - val_gender_out_loss: 0.3039 - val_age_out_loss: 7.0767 - val_gender_out_accuracy: 0.8604 - val_gender_out_mae: 0.1912 - val_age_out_accuracy: 0.0462 - val_age_out_mae: 7.0767\n"
          ]
        }
      ]
    },
    {
      "cell_type": "code",
      "source": [
        "print(history.history.keys())\n"
      ],
      "metadata": {
        "colab": {
          "base_uri": "https://localhost:8080/"
        },
        "id": "Tk0V9vm8Uktw",
        "outputId": "0eca0df9-bd8f-4829-f3a0-7317bdfd932c"
      },
      "execution_count": 52,
      "outputs": [
        {
          "output_type": "stream",
          "name": "stdout",
          "text": [
            "dict_keys(['loss', 'gender_out_loss', 'age_out_loss', 'gender_out_accuracy', 'gender_out_mae', 'age_out_accuracy', 'age_out_mae', 'val_loss', 'val_gender_out_loss', 'val_age_out_loss', 'val_gender_out_accuracy', 'val_gender_out_mae', 'val_age_out_accuracy', 'val_age_out_mae'])\n"
          ]
        }
      ]
    },
    {
      "cell_type": "code",
      "source": [
        "# Plot accuracy graph\n",
        "plt.plot(history.history['gender_out_accuracy'], label='Training Gender Accuracy')\n",
        "plt.plot(history.history['val_gender_out_accuracy'], label='Validation Gender Accuracy')\n",
        "plt.plot(history.history['age_out_accuracy'], label='Training Age Accuracy')\n",
        "plt.plot(history.history['val_age_out_accuracy'], label='Validation Age Accuracy')\n",
        "plt.xlabel('Epoch')\n",
        "plt.ylabel('Accuracy')\n",
        "plt.legend(loc='lower right')\n",
        "plt.show()\n"
      ],
      "metadata": {
        "colab": {
          "base_uri": "https://localhost:8080/",
          "height": 449
        },
        "id": "2DQiwMT7WsSx",
        "outputId": "cc17c5c3-2af2-4f7f-bc7d-fbd9ec032be4"
      },
      "execution_count": 53,
      "outputs": [
        {
          "output_type": "display_data",
          "data": {
            "text/plain": [
              "<Figure size 640x480 with 1 Axes>"
            ],
            "image/png": "[encoded data removed]"
          },
          "metadata": {}
        }
      ]
    },
    {
      "cell_type": "code",
      "source": [
        "# Specify the index of the image you want to evaluate\n",
        "gender_dict = {0: 'Male', 1: 'Female'}\n",
        "image_index = 500\n",
        "\n",
        "# Print the original gender and age labels\n",
        "print(\"Original Gender:\", gender_dict[y_gender[image_index]], \"Original Age:\", y_age[image_index])\n",
        "\n",
        "# Predict from the model\n",
        "pred = model.predict(X[image_index].reshape(1, 128, 128, 1))\n",
        "pred_gender = gender_dict[round(pred[0][0][0])]\n",
        "pred_age = round(pred[1][0][0])\n",
        "\n",
        "# Print the predicted gender and age labels\n",
        "print(\"Predicted Gender:\", pred_gender, \"Predicted Age:\", pred_age)\n",
        "\n",
        "# Display the image\n",
        "plt.axis('off')\n",
        "plt.imshow(X[image_index].reshape(128, 128), cmap='gray')\n"
      ],
      "metadata": {
        "colab": {
          "base_uri": "https://localhost:8080/",
          "height": 475
        },
        "id": "ilVV1ellXIfQ",
        "outputId": "0d3aeb9b-8f72-4598-884b-3bcdcd024e0f"
      },
      "execution_count": 59,
      "outputs": [
        {
          "output_type": "stream",
          "name": "stdout",
          "text": [
            "Original Gender: Female Original Age: 24\n",
            "1/1 [==============================] - 0s 45ms/step\n",
            "Predicted Gender: Female Predicted Age: 31\n"
          ]
        },
        {
          "output_type": "execute_result",
          "data": {
            "text/plain": [
              "<matplotlib.image.AxesImage at 0x7cddc39cf970>"
            ]
          },
          "metadata": {},
          "execution_count": 59
        },
        {
          "output_type": "display_data",
          "data": {
            "text/plain": [
              "<Figure size 640x480 with 1 Axes>"
            ],
            "image/png": "[encoded data removed]"
          },
          "metadata": {}
        }
      ]
    }
  ]
}